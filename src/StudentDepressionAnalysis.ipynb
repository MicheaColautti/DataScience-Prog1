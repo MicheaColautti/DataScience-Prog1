{
 "cells": [
  {
   "cell_type": "markdown",
   "id": "d334442e",
   "metadata": {},
   "source": []
  },
  {
   "cell_type": "markdown",
   "id": "3394d34f",
   "metadata": {},
   "source": [
    "# Student Depression Analysis"
   ]
  }
 ],
 "metadata": {
  "language_info": {
   "name": "python"
  }
 },
 "nbformat": 4,
 "nbformat_minor": 5
}
